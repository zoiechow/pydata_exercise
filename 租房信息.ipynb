{
 "cells": [
  {
   "cell_type": "code",
   "execution_count": 20,
   "metadata": {},
   "outputs": [],
   "source": [
    "import re\n",
    "from bs4 import BeautifulSoup\n",
    "import pandas as pd\n",
    "from sqlalchemy import create_engine\n",
    "from lxml import  html \n",
    "import requests"
   ]
  },
  {
   "cell_type": "code",
   "execution_count": 21,
   "metadata": {},
   "outputs": [],
   "source": [
    "xingzhengqu_cn = ['浦东','黄浦']\n",
    "xingzhengqu = ['pudong','huangpu']\n",
    "url = 'https://sh.lianjia.com/zufang/huangpu/'"
   ]
  },
  {
   "cell_type": "code",
   "execution_count": 25,
   "metadata": {},
   "outputs": [],
   "source": [
    "URL = []\n",
    "def get_html(url,page):\n",
    "#     html = requests.get(url+'/pg%s'%str(i)).text\n",
    "    url_n = url+'/pg%s'%str(page)\n",
    "    html = requests.get(url_n).text\n",
    "    table = BeautifulSoup(html,'lxml').find('div',{'class':'con-box'}).find_all('li',{'data-el':'zufang'})\n",
    "    \n",
    "    table2 = BeautifulSoup(html,'lxml')\n",
    "#     使用正则表达式获得最大页码数\n",
    "    pattern  = re.compile('\"totalPage\":(.*?),\".*?\"')\n",
    "    lastpage = re.findall(pattern,str(table2))\n",
    "    \n",
    "    pattern  = re.compile('\"totalPage\":(.*?),\".*?\"')\n",
    "    \n",
    "    pattern_mianji = re.compile(\"(.*?)平米.*?\")\n",
    "    pattern_quyu = re.compile(\"(.*?)租房\")\n",
    "    pattern_updatetime = re.compile(\"(.*?)\\s更新\")\n",
    "    \n",
    "    result =[]\n",
    "    \n",
    "    for li in table:\n",
    "        item = dict()\n",
    "        item[u'小区'] = li.find('div', {'class': 'where'}).find('a').get_text().replace('\\xa0', '')\n",
    "        item[u'房型'] = li.find('div', {'class': 'where'}).find_all('span')[2].get_text().replace('\\xa0', '')\n",
    "        item[u'面积'] = re.findall(pattern_mianji, li.find('div', {'class': 'where'}).find_all('span')[3].get_text())[0]\n",
    "        item[u'朝向'] = li.find('div', {'class': 'where'}).find_all('span')[4].get_text()\n",
    "        item[u'地区'] = re.findall(pattern_quyu, li.find('div', {'class': 'other'}).find('a').get_text())[0]\n",
    "        item[u'价格'] = li.find('div', {'class': 'price'}).find('span', {'class': 'num'}).get_text()\n",
    "        item[u'楼层'] = li.find('div', {'class': 'con'}).get_text().split('/')[1]\n",
    "        result.append(item)\n",
    "    return result"
   ]
  },
  {
   "cell_type": "code",
   "execution_count": 28,
   "metadata": {},
   "outputs": [],
   "source": [
    "last_page = 36\n",
    "from collections import defaultdict\n",
    "data = pd.DataFrame()"
   ]
  },
  {
   "cell_type": "code",
   "execution_count": 46,
   "metadata": {},
   "outputs": [],
   "source": [
    "for i in range(1,37):\n",
    "    d = pd.DataFrame(get_html(url,i))\n",
    "    data = pd.concat([d,data])"
   ]
  },
  {
   "cell_type": "code",
   "execution_count": 54,
   "metadata": {},
   "outputs": [],
   "source": [
    "data.to_excel('D:\\house3.xlsx',index = False,index_label=None)"
   ]
  },
  {
   "cell_type": "code",
   "execution_count": null,
   "metadata": {},
   "outputs": [],
   "source": []
  }
 ],
 "metadata": {
  "kernelspec": {
   "display_name": "Python 3",
   "language": "python",
   "name": "python3"
  },
  "language_info": {
   "codemirror_mode": {
    "name": "ipython",
    "version": 3
   },
   "file_extension": ".py",
   "mimetype": "text/x-python",
   "name": "python",
   "nbconvert_exporter": "python",
   "pygments_lexer": "ipython3",
   "version": "3.6.4"
  }
 },
 "nbformat": 4,
 "nbformat_minor": 2
}
