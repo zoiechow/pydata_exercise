{
 "cells": [
  {
   "cell_type": "code",
   "execution_count": 1,
   "metadata": {},
   "outputs": [],
   "source": [
    "import os\n",
    "import requests\n",
    "import pandas as pd\n",
    "from bs4 import BeautifulSoup\n",
    "import time \n",
    "from collections import defaultdict"
   ]
  },
  {
   "cell_type": "code",
   "execution_count": 44,
   "metadata": {},
   "outputs": [],
   "source": [
    "url = 'https://www.douban.com/group/shanghaizufang/discussion'\n"
   ]
  },
  {
   "cell_type": "code",
   "execution_count": 71,
   "metadata": {},
   "outputs": [],
   "source": [
    "def doubanzufangSpider(url,page_num,keyword):\n",
    "    result = []\n",
    "    for i in range(page_num):\n",
    "        new_url = url+'?start={}&filter='.format((i-1)*25)\n",
    "        res = requests.get(new_url)\n",
    "        soup = BeautifulSoup(res.text,'html.parser')\n",
    "        title_list = soup.find_all('td',class_ = 'title')\n",
    "        for tl in title_list:\n",
    "            data = defaultdict(list)\n",
    "            if keyword in tl.a['title']:\n",
    "                data['title'].append(tl.a['title'])\n",
    "                data['href'].append(tl.a['href'])\n",
    "                result.append(data)\n",
    "    return result\n"
   ]
  },
  {
   "cell_type": "code",
   "execution_count": 73,
   "metadata": {},
   "outputs": [],
   "source": [
    "d = doubanzufangSpider(url,50,'9号线')\n",
    "d = pd.DataFrame(d)\n",
    "d.to_excel('9号线上海租房.xlsx')"
   ]
  },
  {
   "cell_type": "code",
   "execution_count": null,
   "metadata": {},
   "outputs": [],
   "source": []
  }
 ],
 "metadata": {
  "kernelspec": {
   "display_name": "Python 3",
   "language": "python",
   "name": "python3"
  },
  "language_info": {
   "codemirror_mode": {
    "name": "ipython",
    "version": 3
   },
   "file_extension": ".py",
   "mimetype": "text/x-python",
   "name": "python",
   "nbconvert_exporter": "python",
   "pygments_lexer": "ipython3",
   "version": "3.6.4"
  }
 },
 "nbformat": 4,
 "nbformat_minor": 2
}
